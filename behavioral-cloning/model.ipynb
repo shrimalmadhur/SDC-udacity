{
 "cells": [
  {
   "cell_type": "code",
   "execution_count": 1,
   "metadata": {
    "collapsed": false
   },
   "outputs": [
    {
     "name": "stderr",
     "output_type": "stream",
     "text": [
      "Using TensorFlow backend.\n"
     ]
    }
   ],
   "source": [
    "# import cell\n",
    "%matplotlib inline\n",
    "import glob\n",
    "import cv2\n",
    "import numpy as np\n",
    "import scipy.misc as smp\n",
    "import matplotlib.pyplot as plt\n",
    "import matplotlib.image as mpimg\n",
    "import csv\n",
    "import re\n",
    "import os\n",
    "import json\n",
    "\n",
    "from keras.models import Sequential\n",
    "from keras.layers import Dense, Dropout, Flatten, Lambda, ELU\n",
    "from keras.layers.convolutional import Convolution2D\n",
    "\n",
    "from sklearn.model_selection import train_test_split"
   ]
  },
  {
   "cell_type": "code",
   "execution_count": 2,
   "metadata": {
    "collapsed": false
   },
   "outputs": [],
   "source": [
    "# read csv and make data map\n",
    "\n",
    "def get_image_name(name, regex):\n",
    "    m = re.search(regex, name)\n",
    "    if m:\n",
    "        return m.group(1)\n",
    "    \n",
    "def read_data_file(path):\n",
    "    # http://www.pythonforbeginners.com/systems-programming/using-the-csv-module-in-python/\n",
    "    ifile  = open(path, \"r\")\n",
    "    reader = csv.reader(ifile)\n",
    "\n",
    "    image_steering_map = {}\n",
    "\n",
    "    rownum = 0\n",
    "    for row in reader:\n",
    "        # Save header row.\n",
    "        if rownum == 0:\n",
    "            header = row\n",
    "        else:\n",
    "            colnum = 0\n",
    "            image_name = ''\n",
    "            steering = 0.0\n",
    "            for col in row:\n",
    "                if colnum == 0:\n",
    "                    image_name = get_image_name(col, 'IMG/(.*)')\n",
    "#                     image_name = get_image_name(col, '(.*)')\n",
    "                elif colnum == 3:\n",
    "                    steering = float(col)\n",
    "                colnum += 1\n",
    "            image_steering_map[image_name] = steering\n",
    "\n",
    "        rownum = rownum + 1\n",
    "        \n",
    "    return image_steering_map\n",
    "        \n",
    "image_steering_map = read_data_file('data/driving_log.csv')\n",
    "# print(image_steering_map)\n",
    "def bgr_to_rgb(img):\n",
    "    b,g,r = cv2.split(img)\n",
    "    img2 = cv2.merge([r,g,b])\n",
    "    return img2"
   ]
  },
  {
   "cell_type": "code",
   "execution_count": 3,
   "metadata": {
    "collapsed": true
   },
   "outputs": [],
   "source": [
    "def read_image(path):\n",
    "    images = []\n",
    "    steering = []\n",
    "    for img in glob.glob(path):\n",
    "#         file_name = get_image_name(img, 'data/IMG/(.*)')\n",
    "#         print(img)\n",
    "        file_name = get_image_name(img, 'sample/(.*)')\n",
    "#         print(image_steering_map[file_name])\n",
    "        steering.append(image_steering_map[file_name])\n",
    "        read_image = cv2.imread(img)\n",
    "#         read_image = read_image.astype(np.float32)\n",
    "        images.append(bgr_to_rgb(read_image))\n",
    "        \n",
    "    return images, steering"
   ]
  },
  {
   "cell_type": "code",
   "execution_count": 4,
   "metadata": {
    "collapsed": true
   },
   "outputs": [],
   "source": [
    "def convert_to_numpy_array(arr):\n",
    "    return np.asarray(arr).astype(np.float32)"
   ]
  },
  {
   "cell_type": "code",
   "execution_count": 5,
   "metadata": {
    "collapsed": false
   },
   "outputs": [
    {
     "name": "stdout",
     "output_type": "stream",
     "text": [
      "3\n",
      "3\n"
     ]
    }
   ],
   "source": [
    "# images, steering = read_image('data/IMG/center*')\n",
    "images, steering = read_image('sample/center*')\n",
    "print(len(images))\n",
    "print(len(steering))\n",
    "\n"
   ]
  },
  {
   "cell_type": "code",
   "execution_count": null,
   "metadata": {
    "collapsed": false
   },
   "outputs": [],
   "source": [
    "print(steering)"
   ]
  },
  {
   "cell_type": "code",
   "execution_count": 6,
   "metadata": {
    "collapsed": true
   },
   "outputs": [],
   "source": [
    "np_images = convert_to_numpy_array(images)\n",
    "np_streering = convert_to_numpy_array(steering)"
   ]
  },
  {
   "cell_type": "code",
   "execution_count": null,
   "metadata": {
    "collapsed": false
   },
   "outputs": [],
   "source": [
    "print(len(images))"
   ]
  },
  {
   "cell_type": "code",
   "execution_count": 7,
   "metadata": {
    "collapsed": true
   },
   "outputs": [],
   "source": [
    "# comma.ai\n",
    "def get_model(time_len=1):\n",
    "  ch, row, col = 3, 160, 320  # camera format\n",
    "\n",
    "  model = Sequential()\n",
    "  model.add(Lambda(lambda x: x/127.5 - 1.,\n",
    "            input_shape=(row, col, ch),\n",
    "            output_shape=(row, col, ch)))\n",
    "  model.add(Convolution2D(16, 8, 8, subsample=(4, 4), border_mode=\"same\"))\n",
    "  model.add(ELU())\n",
    "  model.add(Convolution2D(32, 5, 5, subsample=(2, 2), border_mode=\"same\"))\n",
    "  model.add(ELU())\n",
    "  model.add(Convolution2D(64, 5, 5, subsample=(2, 2), border_mode=\"same\"))\n",
    "  model.add(Flatten())\n",
    "  model.add(Dropout(.2))\n",
    "  model.add(ELU())\n",
    "  model.add(Dense(512))\n",
    "  model.add(Dropout(.5))\n",
    "  model.add(ELU())\n",
    "  model.add(Dense(1))\n",
    "\n",
    "  model.compile(optimizer=\"adam\", loss=\"mse\")\n",
    "\n",
    "  return model"
   ]
  },
  {
   "cell_type": "code",
   "execution_count": null,
   "metadata": {
    "collapsed": false
   },
   "outputs": [],
   "source": [
    "X_train, X_validate, y_train, y_validate = train_test_split(np_images, np_streering, test_size=0.33)\n",
    "print(len(X_train))\n",
    "print(len(X_validate))"
   ]
  },
  {
   "cell_type": "code",
   "execution_count": null,
   "metadata": {
    "collapsed": true
   },
   "outputs": [],
   "source": [
    "def data_iterator(x, y, size):\n",
    "    \"\"\" A simple data iterator \"\"\"\n",
    "    while True:\n",
    "        # shuffle labels and features\n",
    "        idxs = np.arange(0, len(x))\n",
    "        np.random.shuffle(idxs)\n",
    "        print(idxs)\n",
    "#         shuf_features = x[idxs]\n",
    "#         shuf_labels = y[idxs]\n",
    "        batch_size = size\n",
    "        for batch_idx in range(0, len(x), batch_size):\n",
    "            images_batch = x[batch_idx:batch_idx+batch_size]\n",
    "            labels_batch = y[batch_idx:batch_idx+batch_size]\n",
    "            yield (images_batch, labels_batch)"
   ]
  },
  {
   "cell_type": "code",
   "execution_count": null,
   "metadata": {
    "collapsed": false
   },
   "outputs": [],
   "source": [
    "BATCH_SIZE = 128\n",
    "EPOCH = 5\n",
    "\n",
    "model = get_model()\n",
    "model.fit_generator(\n",
    "data_iterator(X_train, y_train, BATCH_SIZE),\n",
    "samples_per_epoch=len(X_train),\n",
    "nb_epoch=EPOCH,\n",
    "validation_data=data_iterator(X_validate, y_validate, BATCH_SIZE),\n",
    "nb_val_samples=500\n",
    ")"
   ]
  },
  {
   "cell_type": "code",
   "execution_count": 8,
   "metadata": {
    "collapsed": false
   },
   "outputs": [
    {
     "name": "stdout",
     "output_type": "stream",
     "text": [
      "Train on 3 samples, validate on 3 samples\n",
      "Epoch 1/5\n",
      "3/3 [==============================] - 0s - loss: 0.0646 - val_loss: 4.7409\n",
      "Epoch 2/5\n",
      "3/3 [==============================] - 0s - loss: 4.5599 - val_loss: 12.4010\n",
      "Epoch 3/5\n",
      "3/3 [==============================] - 0s - loss: 7.0247 - val_loss: 4.2417\n",
      "Epoch 4/5\n",
      "3/3 [==============================] - 0s - loss: 7.0139 - val_loss: 0.7626\n",
      "Epoch 5/5\n",
      "3/3 [==============================] - 0s - loss: 1.8109 - val_loss: 0.6929\n",
      "[ 0.         -0.0787459   0.57846057]\n",
      "[[ 0.56638491]\n",
      " [-0.48750398]\n",
      " [-0.68278641]]\n"
     ]
    },
    {
     "ename": "NameError",
     "evalue": "name 'score' is not defined",
     "output_type": "error",
     "traceback": [
      "\u001b[0;31m---------------------------------------------------------------------------\u001b[0m",
      "\u001b[0;31mNameError\u001b[0m                                 Traceback (most recent call last)",
      "\u001b[0;32m<ipython-input-8-0c53297687ae>\u001b[0m in \u001b[0;36m<module>\u001b[0;34m()\u001b[0m\n\u001b[1;32m     10\u001b[0m \u001b[0mprint\u001b[0m\u001b[0;34m(\u001b[0m\u001b[0marr\u001b[0m\u001b[0;34m)\u001b[0m\u001b[0;34m\u001b[0m\u001b[0m\n\u001b[1;32m     11\u001b[0m \u001b[0;31m# score = model.evaluate(np_images, np_streering, verbose=0)\u001b[0m\u001b[0;34m\u001b[0m\u001b[0;34m\u001b[0m\u001b[0m\n\u001b[0;32m---> 12\u001b[0;31m \u001b[0mprint\u001b[0m\u001b[0;34m(\u001b[0m\u001b[0mscore\u001b[0m\u001b[0;34m)\u001b[0m\u001b[0;34m\u001b[0m\u001b[0m\n\u001b[0m\u001b[1;32m     13\u001b[0m \u001b[0;31m# print('Test score:', score[0])\u001b[0m\u001b[0;34m\u001b[0m\u001b[0;34m\u001b[0m\u001b[0m\n\u001b[1;32m     14\u001b[0m \u001b[0;31m# print('Test accuracy:', score[1])\u001b[0m\u001b[0;34m\u001b[0m\u001b[0;34m\u001b[0m\u001b[0m\n",
      "\u001b[0;31mNameError\u001b[0m: name 'score' is not defined"
     ]
    }
   ],
   "source": [
    "BATCH_SIZE = 128\n",
    "EPOCH = 5\n",
    "\n",
    "model = get_model()\n",
    "history = model.fit(np_images, np_streering,\n",
    "                    batch_size=BATCH_SIZE, nb_epoch=EPOCH,\n",
    "                    verbose=1, validation_data=(np_images, np_streering))\n",
    "arr = model.predict(np_images)\n",
    "print(np_streering)\n",
    "print(arr)\n",
    "# score = model.evaluate(np_images, np_streering, verbose=0)\n",
    "print(score)\n",
    "# print('Test score:', score[0])\n",
    "# print('Test accuracy:', score[1])"
   ]
  },
  {
   "cell_type": "code",
   "execution_count": null,
   "metadata": {
    "collapsed": false
   },
   "outputs": [],
   "source": [
    "print(\"Saving model weights and configuration file.\")\n",
    "\n",
    "if not os.path.exists(\"./outputs/steering_model\"):\n",
    "  os.makedirs(\"./outputs/steering_model\")\n",
    "\n",
    "model.save_weights(\"./outputs/steering_model/model.h5\", True)\n",
    "with open('./outputs/steering_model/model.json', 'w') as outfile:\n",
    "    json.dump(model.to_json(), outfile)"
   ]
  },
  {
   "cell_type": "code",
   "execution_count": null,
   "metadata": {
    "collapsed": true
   },
   "outputs": [],
   "source": []
  }
 ],
 "metadata": {
  "anaconda-cloud": {},
  "kernelspec": {
   "display_name": "Python 3",
   "language": "python",
   "name": "python3"
  },
  "language_info": {
   "codemirror_mode": {
    "name": "ipython",
    "version": 3
   },
   "file_extension": ".py",
   "mimetype": "text/x-python",
   "name": "python",
   "nbconvert_exporter": "python",
   "pygments_lexer": "ipython3",
   "version": "3.5.2"
  },
  "widgets": {
   "state": {},
   "version": "1.1.2"
  }
 },
 "nbformat": 4,
 "nbformat_minor": 2
}
