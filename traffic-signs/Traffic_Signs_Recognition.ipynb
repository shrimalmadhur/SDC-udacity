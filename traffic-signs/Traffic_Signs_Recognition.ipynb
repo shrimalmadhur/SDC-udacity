{
 "cells": [
  {
   "cell_type": "markdown",
   "metadata": {},
   "source": [
    "# Self-Driving Car Engineer Nanodegree\n",
    "\n",
    "## Deep Learning\n",
    "\n",
    "## Project: Build a Traffic Sign Recognition Classifier\n",
    "\n",
    "In this notebook, a template is provided for you to implement your functionality in stages which is required to successfully complete this project. If additional code is required that cannot be included in the notebook, be sure that the Python code is successfully imported and included in your submission, if necessary. Sections that begin with **'Implementation'** in the header indicate where you should begin your implementation for your project. Note that some sections of implementation are optional, and will be marked with **'Optional'** in the header.\n",
    "\n",
    "In addition to implementing code, there will be questions that you must answer which relate to the project and your implementation. Each section where you will answer a question is preceded by a **'Question'** header. Carefully read each question and provide thorough answers in the following text boxes that begin with **'Answer:'**. Your project submission will be evaluated based on your answers to each of the questions and the implementation you provide.\n",
    "\n",
    ">**Note:** Code and Markdown cells can be executed using the **Shift + Enter** keyboard shortcut. In addition, Markdown cells can be edited by typically double-clicking the cell to enter edit mode."
   ]
  },
  {
   "cell_type": "markdown",
   "metadata": {},
   "source": [
    "---\n",
    "\n",
    "## Step 1: Dataset Exploration\n",
    "\n",
    "Visualize the German Traffic Signs Dataset. This is open ended, some suggestions include: plotting traffic signs images, plotting the count of each sign, etc. Be creative!\n",
    "\n",
    "\n",
    "The pickled data is a dictionary with 4 key/value pairs:\n",
    "\n",
    "- features -> the images pixel values, (width, height, channels)\n",
    "- labels -> the label of the traffic sign\n",
    "- sizes -> the original width and height of the image, (width, height)\n",
    "- coords -> coordinates of a bounding box around the sign in the image, (x1, y1, x2, y2). Based the original image (not the resized version)."
   ]
  },
  {
   "cell_type": "code",
   "execution_count": null,
   "metadata": {
    "collapsed": true
   },
   "outputs": [],
   "source": [
    "# Load pickled data\n",
    "import pickle\n",
    "\n",
    "# TODO: fill this in based on where you saved the training and testing data\n",
    "training_file = '/home/carnd/train.p'\n",
    "testing_file = '/home/carnd/test.p'\n",
    "\n",
    "with open(training_file, mode='rb') as f:\n",
    "    train = pickle.load(f)\n",
    "with open(testing_file, mode='rb') as f:\n",
    "    test = pickle.load(f)\n",
    "    \n",
    "X_train, y_train = train['features'], train['labels']\n",
    "X_test, y_test = test['features'], test['labels']"
   ]
  },
  {
   "cell_type": "code",
   "execution_count": null,
   "metadata": {
    "collapsed": false
   },
   "outputs": [],
   "source": [
    "### To start off let's do a basic data summary.\n",
    "\n",
    "# TODO: number of training examples\n",
    "n_train = len(X_train)\n",
    "\n",
    "# TODO: number of testing examples\n",
    "n_test = len(X_test)\n",
    "\n",
    "# TODO: what's the shape of an image?\n",
    "image_shape = X_train[0].shape\n",
    "\n",
    "# TODO: how many classes are in the dataset\n",
    "n_classes = len(set(y_train))\n",
    "\n",
    "print(\"Number of training examples =\", n_train)\n",
    "print(\"Number of testing examples =\", n_test)\n",
    "print(\"Image data shape =\", image_shape)\n",
    "print(\"Number of classes =\", n_classes)"
   ]
  },
  {
   "cell_type": "code",
   "execution_count": null,
   "metadata": {
    "collapsed": false
   },
   "outputs": [],
   "source": [
    "### Data exploration visualization goes here.\n",
    "### Feel free to use as many code cells as needed.\n",
    "%matplotlib inline\n",
    "import numpy as np\n",
    "import scipy.misc as smp\n",
    "import matplotlib.pyplot as plt\n",
    "import matplotlib.image as mpimg\n",
    "from collections import Counter\n",
    "from matplotlib import gridspec\n",
    "\n",
    "fig = plt.figure(num=None, figsize=(12, 6), dpi=80, facecolor='w', edgecolor='k')\n",
    "gs = gridspec.GridSpec(1, 2, width_ratios=[1, 5]) \n",
    "a=fig.add_subplot(gs[0])\n",
    "\n",
    "image_arr = np.asarray(X_train[33430], dtype=np.uint8)\n",
    "img = smp.toimage(image_arr)       \n",
    "imgplot = plt.imshow(img)\n",
    "\n",
    "class_dict = dict(Counter(y_train))\n",
    "\n",
    "a=fig.add_subplot(gs[1])\n",
    "\n",
    "plt.bar(range(len(class_dict)), class_dict.values(), align='edge')\n",
    "# plt.xticks(range(len(class_dict)), list(class_dict.keys()))\n",
    "\n",
    "plt.show()"
   ]
  },
  {
   "cell_type": "markdown",
   "metadata": {},
   "source": [
    "----\n",
    "\n",
    "## Step 2: Design and Test a Model Architecture\n",
    "\n",
    "Design and implement a deep learning model that learns to recognize traffic signs. Train and test your model on the [German Traffic Sign Dataset](http://benchmark.ini.rub.de/?section=gtsrb&subsection=dataset).\n",
    "\n",
    "There are various aspects to consider when thinking about this problem:\n",
    "\n",
    "- Your model can be derived from a deep feedforward net or a deep convolutional network.\n",
    "- Play around preprocessing techniques (normalization, rgb to grayscale, etc)\n",
    "- Number of examples per label (some have more than others).\n",
    "- Generate fake data.\n",
    "\n",
    "Here is an example of a [published baseline model on this problem](http://yann.lecun.com/exdb/publis/pdf/sermanet-ijcnn-11.pdf). It's not required to be familiar with the approach used in the paper but, it's good practice to try to read papers like these."
   ]
  },
  {
   "cell_type": "markdown",
   "metadata": {},
   "source": [
    "### Implementation\n",
    "\n",
    "Use the code cell (or multiple code cells, if necessary) to implement the first step of your project. Once you have completed your implementation and are satisfied with the results, be sure to thoroughly answer the questions that follow."
   ]
  },
  {
   "cell_type": "code",
   "execution_count": null,
   "metadata": {
    "collapsed": false
   },
   "outputs": [],
   "source": [
    "### Preprocess the data here.\n",
    "### Feel free to use as many code cells as needed.\n",
    "from sklearn.preprocessing import LabelBinarizer\n",
    "\n",
    "def convert_to_grayscale(img):\n",
    "    return np.mean(img, axis=3)\n",
    "\n",
    "def normalize(img):\n",
    "    \n",
    "    # Data around origin\n",
    "    img -= np.mean(img)\n",
    "    \n",
    "    # Normalization\n",
    "    img /= np.std(img, axis = 0)\n",
    "    \n",
    "    return img\n",
    "\n",
    "def one_hot_encode(labels):\n",
    "    enc = LabelBinarizer()\n",
    "    return enc.fit_transform(labels).astype(np.float32) \n",
    "    \n",
    "\n",
    "# Processing features\n",
    "X_train_processed = normalize(convert_to_grayscale(X_train))\n",
    "X_test_processed = normalize(convert_to_grayscale(X_test))\n",
    "\n",
    "# Processing label\n",
    "y_train_processed = one_hot_encode(y_train)\n",
    "y_test_processed = one_hot_encode(y_test)\n",
    "# print(y_train)\n",
    "\n",
    "print(one_hot_encode(y_train))\n",
    "plt.imshow(X_train_processed[31030], cmap='gray')\n",
    "plt.show()\n",
    "\n",
    "print(X_train_processed.shape)\n",
    "\n",
    "\n",
    "def reshape_image(data, image_shape, num_channels=1):\n",
    "    # reshape the image for convolution\n",
    "    return data.reshape(-1, image_shape[0], image_shape[1], 1).astype(np.float32)\n",
    "\n",
    "X_train_reshape = reshape_image(X_train_processed, image_shape, 1)\n",
    "X_test_reshape = reshape_image(X_test_processed, image_shape, 1)\n",
    "\n",
    "print(X_train_reshape.shape)\n",
    "print(X_test_reshape.shape)"
   ]
  },
  {
   "cell_type": "markdown",
   "metadata": {},
   "source": [
    "### Question 1 \n",
    "\n",
    "_Describe the techniques used to preprocess the data._"
   ]
  },
  {
   "cell_type": "markdown",
   "metadata": {},
   "source": [
    "**Answer:**\n",
    "\n",
    "- First I converted the images to grayscale by simply taking mean of the data. It will make our computations faster as we don't need to apply calculations on all the 3 channels.\n",
    "- Then I normalized the image pixels by subtracting the mean so that they are around origin and then dividing by standard deviation so that they are on same scale.\n",
    "- I encoded labes using one hot encoding so that it is easy and possible to classify a multiscale classifier."
   ]
  },
  {
   "cell_type": "code",
   "execution_count": null,
   "metadata": {
    "collapsed": false
   },
   "outputs": [],
   "source": [
    "### Generate data additional (if you want to!)\n",
    "### and split the data into training/validation/testing sets here.\n",
    "### Feel free to use as many code cells as needed.\n",
    "from sklearn.model_selection import train_test_split\n",
    "\n",
    "X_train, X_validate, y_train, y_validate = train_test_split(X_train_reshape, y_train_processed, test_size=0.33, stratify=y_train_processed)\n",
    "print(X_train.shape)\n",
    "print(X_validate.shape)\n",
    "print(y_train.shape)"
   ]
  },
  {
   "cell_type": "markdown",
   "metadata": {},
   "source": [
    "### Question 2\n",
    "\n",
    "_Describe how you set up the training, validation and testing data for your model. If you generated additional data, why?_"
   ]
  },
  {
   "cell_type": "markdown",
   "metadata": {},
   "source": [
    "**Answer:**\n",
    "- I used to sklean.model_selection's train_test_split function to generate training and validation set. I used 1/3rd of data as validation and rest as training\n",
    "- We already have the test data with us so I didn't need an extra test set\n",
    "- I didn't generate additional data as of now. But I could generate it using rotation or shifting the image."
   ]
  },
  {
   "cell_type": "code",
   "execution_count": null,
   "metadata": {
    "collapsed": false
   },
   "outputs": [],
   "source": [
    "n_channels = 1\n",
    "\n",
    "# Conv Layer 1\n",
    "layer_1_filter_size = 6\n",
    "layer_1_num_filter = 6\n",
    "\n",
    "# Conv Layer 2\n",
    "layer_2_filter_size = 4\n",
    "layer_2_num_filter = 16\n",
    "\n",
    "keep_prob = 0.5\n",
    "\n",
    "# Size of the fully connected layer\n",
    "fully_conn_size = 128\n",
    "\n",
    "def get_weights(shape):\n",
    "    return tf.Variable(tf.truncated_normal(shape, stddev=1e-3))\n",
    "\n",
    "def get_biases(num_filter):\n",
    "    return tf.Variable(tf.constant(0.02, shape=[num_filter]))\n",
    "\n",
    "def get_conv_layer(inputs, weights, biases, max_pool=True):\n",
    "    strides = [1, 1, 1, 1]\n",
    "    padding = 'SAME'\n",
    "    x = tf.nn.conv2d(inputs, weights, strides, padding) + biases\n",
    "    \n",
    "    if(max_pool):\n",
    "        ksize = [1, 2 ,2 ,1]\n",
    "        strides = [1, 2, 2, 1]\n",
    "        padding = 'SAME'\n",
    "        x = tf.nn.max_pool(x, ksize, strides, padding)\n",
    "        \n",
    "    return tf.nn.relu(x)"
   ]
  },
  {
   "cell_type": "code",
   "execution_count": null,
   "metadata": {
    "collapsed": true
   },
   "outputs": [],
   "source": [
    "def get_flattened_layer(layer):\n",
    "    \"\"\"\n",
    "        Flatterns the layer\n",
    "    \"\"\"\n",
    "    layer_shape = layer.get_shape()\n",
    "    \n",
    "    num_features = layer_shape[1:4].num_elements()\n",
    "    \n",
    "    layer_flat = tf.reshape(layer, [-1, num_features])\n",
    "    \n",
    "    return layer_flat, num_features"
   ]
  },
  {
   "cell_type": "code",
   "execution_count": null,
   "metadata": {
    "collapsed": true
   },
   "outputs": [],
   "source": [
    "def get_fully_connected_layer(input_layer, weights, biases, use_RELU=True, train=False):\n",
    "    print(input_layer)\n",
    "    print(weights)\n",
    "    output = tf.matmul(input_layer, weights) + biases\n",
    "    \n",
    "    if(train):\n",
    "        output = tf.nn.dropout(output, keep_prob=keep_prob)\n",
    "        \n",
    "    if(use_RELU):\n",
    "        output = tf.nn.relu(output)\n",
    "    \n",
    "    return output"
   ]
  },
  {
   "cell_type": "code",
   "execution_count": null,
   "metadata": {
    "collapsed": false
   },
   "outputs": [],
   "source": [
    "### Define your architecture here.\n",
    "### Feel free to use as many code cells as needed.\n",
    "import tensorflow as tf\n",
    "from tensorflow.contrib.layers import flatten\n",
    "\n",
    "\n",
    "\n",
    "layer_1_weights = get_weights([layer_1_filter_size, layer_1_filter_size, n_channels, layer_1_num_filter])\n",
    "layer_1_biases = get_biases(layer_1_num_filter)\n",
    "\n",
    "layer_2_weights = get_weights([layer_2_filter_size, layer_2_filter_size, layer_1_num_filter, layer_2_num_filter])\n",
    "layer_2_biases = get_biases(layer_2_num_filter)\n",
    "\n",
    "flattened_layer_size = int(image_shape[0]//4) * int(image_shape[0]//4) * layer_2_num_filter\n",
    "weights_fully_conn_layer_1 = get_weights([flattened_layer_size, fully_conn_size])\n",
    "biases_fully_conn_layer_1 = get_biases(fully_conn_size)\n",
    "\n",
    "weights_fully_conn_layer_2 = get_weights([fully_conn_size, n_classes])\n",
    "biases_fully_conn_layer_2 = get_biases(n_classes)\n",
    "\n",
    "\n",
    "# LeNet architecture:\n",
    "# INPUT -> CONV -> ACT -> POOL -> CONV -> ACT -> POOL -> FLATTEN -> FC -> ACT -> FC\n",
    "#\n",
    "# Don't worry about anything else in the file too much, all you have to do is\n",
    "# create the LeNet and return the result of the last fully connected layer.\n",
    "def LeNet(x):\n",
    "    # convolutional and pooling layers.\n",
    "\n",
    "    # TODO: Define the LeNet architecture.\n",
    "\n",
    "    # Convolutional Layer\n",
    "    layer_1_conv_layer = get_conv_layer(x, layer_1_weights, layer_1_biases, max_pool=True)\n",
    "    \n",
    "    # Convolutional layer\n",
    "    layer_2_conv_layer = get_conv_layer(layer_1_conv_layer, layer_2_weights, layer_2_biases, max_pool=True)\n",
    "    \n",
    "    # Flatten\n",
    "    layer_flat,num_features = get_flattened_layer(layer_2_conv_layer)\n",
    "\n",
    "    # Fully connected\n",
    "    fully_connected_layer_1_output = get_fully_connected_layer(layer_flat, weights_fully_conn_layer_1, biases_fully_conn_layer_1, train=train)\n",
    "    \n",
    "    # Fully Connected\n",
    "    fully_connected_layer_2_output = get_fully_connected_layer(fully_connected_layer_1_output, weights_fully_conn_layer_2, biases_fully_conn_layer_2, use_RELU=False)\n",
    "\n",
    "\n",
    "    # Return the result of the last fully connected layer.\n",
    "    return fully_connected_layer_2_output"
   ]
  },
  {
   "cell_type": "markdown",
   "metadata": {},
   "source": [
    "### Question 3\n",
    "\n",
    "_What does your final architecture look like? (Type of model, layers, sizes, connectivity, etc.)  For reference on how to build a deep neural network using TensorFlow, see [Deep Neural Network in TensorFlow\n",
    "](https://classroom.udacity.com/nanodegrees/nd013/parts/fbf77062-5703-404e-b60c-95b78b2f3f9e/modules/6df7ae49-c61c-4bb2-a23e-6527e69209ec/lessons/b516a270-8600-4f93-a0a3-20dfeabe5da6/concepts/83a3a2a2-a9bd-4b7b-95b0-eb924ab14432) from the classroom._\n"
   ]
  },
  {
   "cell_type": "markdown",
   "metadata": {},
   "source": [
    "**Answer:**\n",
    "- I used the same Architecture provided to us in the lenet file. So I used Lenet Architecture. Sizes of the layer can be seen in the code.\n",
    "\n",
    "Layered Architecture -- INPUT -> CONV -> ACT -> POOL -> CONV -> ACT -> POOL -> FLATTEN -> FC -> ACT -> FC\n",
    "- Both the convolution layer and the Fully connected layer have weights and biases. All these 4 weights are to be trained."
   ]
  },
  {
   "cell_type": "code",
   "execution_count": null,
   "metadata": {
    "collapsed": false
   },
   "outputs": [],
   "source": [
    "### Train your model here.\n",
    "### Feel free to use as many code cells as needed.\n",
    "\n",
    "BATCH_SIZE = 128\n",
    "\n",
    "# Regularization paramter\n",
    "beta = 1e-4\n",
    "\n",
    "x = tf.placeholder(tf.float32, shape=[None, image_shape[0], image_shape[1], n_channels])\n",
    "# Classify 43 classes.\n",
    "y = tf.placeholder(tf.float32, shape=[None, n_classes])\n",
    "\n",
    "x_valid = tf.constant(X_validate)\n",
    "x_test = tf.constant(X_test)\n",
    "\n",
    "fc2 = LeNet(x)\n",
    "\n",
    "loss_op = tf.reduce_mean(tf.nn.softmax_cross_entropy_with_logits(fc2, y)) + beta*(tf.nn.l2_loss(layer_1_weights) + tf.nn.l2_loss(layer_2_weights) + tf.nn.l2_loss(weights_fully_conn_layer_1) + tf.nn.l2_loss(weights_fully_conn_layer_2))\n",
    "opt = tf.train.AdamOptimizer(1e-3)\n",
    "train_op = opt.minimize(loss_op)\n",
    "\n",
    "\n",
    "y_pred = tf.nn.softmax(fc2)\n",
    "\n",
    "valid_pred = tf.nn.softmax(LeNet(x_valid))\n",
    "test_pred = tf.nn.softmax(LeNet(X_test_reshape))"
   ]
  },
  {
   "cell_type": "code",
   "execution_count": null,
   "metadata": {
    "collapsed": true
   },
   "outputs": [],
   "source": [
    "def data_iterator(x, y):\n",
    "    \"\"\" A simple data iterator \"\"\"\n",
    "    while True:\n",
    "        # shuffle labels and features\n",
    "        idxs = np.arange(0, len(x))\n",
    "        np.random.shuffle(idxs)\n",
    "        shuf_features = x[idxs]\n",
    "        shuf_labels = y[idxs]\n",
    "        batch_size = BATCH_SIZE\n",
    "        for batch_idx in range(0, len(x), batch_size):\n",
    "            images_batch = shuf_features[batch_idx:batch_idx+batch_size]\n",
    "            labels_batch = shuf_labels[batch_idx:batch_idx+batch_size]\n",
    "            yield images_batch, labels_batch\n"
   ]
  },
  {
   "cell_type": "code",
   "execution_count": null,
   "metadata": {
    "collapsed": true
   },
   "outputs": [],
   "source": [
    "def accuracy(predictions, labels):\n",
    "  return (100.0 * np.sum(np.argmax(predictions, 1) == np.argmax(labels, 1))\n",
    "          / predictions.shape[0])"
   ]
  },
  {
   "cell_type": "code",
   "execution_count": null,
   "metadata": {
    "collapsed": false
   },
   "outputs": [],
   "source": [
    "import math\n",
    "\n",
    "EPOCH = 100\n",
    "session = tf.Session()\n",
    "session.run(tf.global_variables_initializer())\n",
    "\n",
    "num_iterations_per_epoch = math.ceil(X_train.shape[0]/BATCH_SIZE)\n",
    "\n",
    "iter_ = data_iterator(X_train, y_train)\n",
    "\n",
    "for i in range(EPOCH):\n",
    "\n",
    "    for j in range(num_iterations_per_epoch):\n",
    "        # get a batch of data\n",
    "        x_batch, y_batch = next(iter_)\n",
    "\n",
    "        # Run the optimizer on the batch\n",
    "        session.run([train_op], feed_dict={x: x_batch, y: y_batch})\n",
    "\n",
    "    train_cost, train_predictions = session.run([loss_op, y_pred], feed_dict={x: X_train, y: y_train})\n",
    "    print(\"train accuracy %.1f%% with loss %0.1f in epoch %d\" % (float(accuracy(train_predictions, y_train)), train_cost, (i+1)))\n",
    "    \n",
    "print('Validation accuracy: %.1f%%' % accuracy(valid_pred.eval(session=session), y_validate))        \n",
    "print('Test accuracy: %.1f%%' % accuracy(test_pred.eval(session=session), y_test_processed))"
   ]
  },
  {
   "cell_type": "markdown",
   "metadata": {},
   "source": [
    "### Question 4\n",
    "\n",
    "_How did you train your model? (Type of optimizer, batch size, epochs, hyperparameters, etc.)_\n"
   ]
  },
  {
   "cell_type": "markdown",
   "metadata": {},
   "source": [
    "**Answer:**\n",
    "\n",
    "- I used Adam Optimizer which is Gradient descent optimizier. The initial learning rate was 0.001.\n",
    "- I used Batch size as 128\n",
    "- I used 100 epochs and I got a decent validation and test accuracy.\n",
    "- I also used a regularization to penalize weights and prevents overfitting. The value is 1e-4\n",
    "- I used dropout rate of 0.5"
   ]
  },
  {
   "cell_type": "markdown",
   "metadata": {},
   "source": [
    "### Question 5\n",
    "\n",
    "\n",
    "_What approach did you take in coming up with a solution to this problem?_"
   ]
  },
  {
   "cell_type": "markdown",
   "metadata": {},
   "source": [
    "**Answer:**\n",
    "Since I am new to Deep learning, I used the already known Lenet Architecture which I did in the Lenet lab. I tried couple of filter sizes but the ones in which I got a decent test accurcay were\n",
    "\n",
    "       Conv Layer 1\n",
    "        layer_1_filter_size = 6\n",
    "        layer_1_num_filter = 6\n",
    "\n",
    "       Conv Layer 2\n",
    "        layer_2_filter_size = 4\n",
    "        layer_2_num_filter = 16\n",
    "        \n",
    "I initialized weights and biases and got some decent results with the ones which can be seen above.\n",
    "\n",
    "I will try again with different paramteres and hyperparameters and different optimizer once I get more theoritical knowledge.\n",
    "\n",
    "This article http://cs231n.github.io/convolutional-networks/ helped me a lot in understanding how to build it"
   ]
  },
  {
   "cell_type": "markdown",
   "metadata": {},
   "source": [
    "---\n",
    "\n",
    "## Step 3: Test a Model on New Images\n",
    "\n",
    "Take several pictures of traffic signs that you find on the web or around you (at least five), and run them through your classifier on your computer to produce example results. The classifier might not recognize some local signs but it could prove interesting nonetheless.\n",
    "\n",
    "You may find `signnames.csv` useful as it contains mappings from the class id (integer) to the actual sign name."
   ]
  },
  {
   "cell_type": "markdown",
   "metadata": {},
   "source": [
    "### Implementation\n",
    "\n",
    "Use the code cell (or multiple code cells, if necessary) to implement the first step of your project. Once you have completed your implementation and are satisfied with the results, be sure to thoroughly answer the questions that follow."
   ]
  },
  {
   "cell_type": "code",
   "execution_count": null,
   "metadata": {
    "collapsed": false
   },
   "outputs": [],
   "source": [
    "### Load the images and plot them here.\n",
    "### Feel free to use as many code cells as needed.\n",
    "\n",
    "import glob\n",
    "import cv2\n",
    "\n",
    "def read_image():\n",
    "    images = []\n",
    "    for img in glob.glob(\"/home/carnd/SDC-udacity/traffic-signs/collected_data/*\"):\n",
    "        read_image = cv2.imread(img)\n",
    "#         read_image = read_image.astype(np.float32)\n",
    "        images.append(read_image)\n",
    "        \n",
    "    return images\n",
    "    \n",
    "def resize_image(images):\n",
    "    images_new = []\n",
    "    for img in images:\n",
    "        img_resize = cv2.resize(img, (image_shape[0], image_shape[1]))\n",
    "        images_new.append(img_resize)\n",
    "    \n",
    "    return images_new\n",
    "    \n",
    "    \n"
   ]
  },
  {
   "cell_type": "code",
   "execution_count": null,
   "metadata": {
    "collapsed": true
   },
   "outputs": [],
   "source": [
    "read_images = read_image()"
   ]
  },
  {
   "cell_type": "code",
   "execution_count": null,
   "metadata": {
    "collapsed": false
   },
   "outputs": [],
   "source": [
    "coll_images = resize_image(read_images)"
   ]
  },
  {
   "cell_type": "code",
   "execution_count": null,
   "metadata": {
    "collapsed": false
   },
   "outputs": [],
   "source": [
    "def plot_images(images, cmap=None):\n",
    "    fig = plt.figure(num=None, figsize=(12, 6), dpi=80, facecolor='w', edgecolor='k')\n",
    "    gs = gridspec.GridSpec(1, 5)\n",
    "    count = 0\n",
    "    for g in gs:\n",
    "#         ax = plt.subplot(g)\n",
    "        fig.add_subplot(g)\n",
    "        if cmap == None:\n",
    "            plt.imshow(images[count])\n",
    "        else:\n",
    "            plt.imshow(images[count], cmap=cmap)\n",
    "        count = count + 1\n",
    "        \n",
    "# plot_images(read_images)\n",
    "plot_images(coll_images)"
   ]
  },
  {
   "cell_type": "code",
   "execution_count": null,
   "metadata": {
    "collapsed": false
   },
   "outputs": [],
   "source": [
    "processed_new_images = normalize(convert_to_grayscale(coll_images))\n",
    "plot_images(processed_new_images, cmap='gray')"
   ]
  },
  {
   "cell_type": "code",
   "execution_count": null,
   "metadata": {
    "collapsed": true
   },
   "outputs": [],
   "source": [
    "images_coll = np.ndarray((len(processed_new_images), image_shape[0], image_shape[1], 1), buffer=processed_new_images, dtype=np.float32)\n",
    "\n",
    "x_collected = images_coll\n",
    "y_collected_original = np.array([40, 22, 38, 5, 4])\n",
    "y_collected_original_one_hot = one_hot_encode(y_collected_original)"
   ]
  },
  {
   "cell_type": "markdown",
   "metadata": {},
   "source": [
    "### Question 6\n",
    "\n",
    "_Choose five candidate images of traffic signs and provide them in the report. Are there any particular qualities of the image(s) that might make classification difficult? It would be helpful to plot the images in the notebook._\n",
    "\n"
   ]
  },
  {
   "cell_type": "markdown",
   "metadata": {},
   "source": [
    "**Answer:**"
   ]
  },
  {
   "cell_type": "code",
   "execution_count": null,
   "metadata": {
    "collapsed": true
   },
   "outputs": [],
   "source": [
    "### Run the predictions here.\n",
    "### Feel free to use as many code cells as needed."
   ]
  },
  {
   "cell_type": "markdown",
   "metadata": {},
   "source": [
    "### Question 7\n",
    "\n",
    "_Is your model able to perform equally well on captured pictures when compared to testing on the dataset?_\n"
   ]
  },
  {
   "cell_type": "markdown",
   "metadata": {},
   "source": [
    "**Answer:**"
   ]
  },
  {
   "cell_type": "code",
   "execution_count": null,
   "metadata": {
    "collapsed": true
   },
   "outputs": [],
   "source": [
    "### Visualize the softmax probabilities here.\n",
    "### Feel free to use as many code cells as needed."
   ]
  },
  {
   "cell_type": "markdown",
   "metadata": {},
   "source": [
    "### Question 8\n",
    "\n",
    "*Use the model's softmax probabilities to visualize the **certainty** of its predictions, [`tf.nn.top_k`](https://www.tensorflow.org/versions/r0.11/api_docs/python/nn.html#top_k) could prove helpful here. Which predictions is the model certain of? Uncertain? If the model was incorrect in its initial prediction, does the correct prediction appear in the top k? (k should be 5 at most)*\n"
   ]
  },
  {
   "cell_type": "markdown",
   "metadata": {},
   "source": [
    "**Answer:**"
   ]
  },
  {
   "cell_type": "markdown",
   "metadata": {},
   "source": [
    "### Question 9\n",
    "_If necessary, provide documentation for how an interface was built for your model to load and classify newly-acquired images._\n"
   ]
  },
  {
   "cell_type": "markdown",
   "metadata": {},
   "source": [
    "**Answer:**"
   ]
  },
  {
   "cell_type": "markdown",
   "metadata": {},
   "source": [
    "> **Note**: Once you have completed all of the code implementations and successfully answered each question above, you may finalize your work by exporting the iPython Notebook as an HTML document. You can do this by using the menu above and navigating to  \\n\",\n",
    "    \"**File -> Download as -> HTML (.html)**. Include the finished document along with this notebook as your submission."
   ]
  },
  {
   "cell_type": "code",
   "execution_count": null,
   "metadata": {
    "collapsed": true
   },
   "outputs": [],
   "source": []
  }
 ],
 "metadata": {
  "anaconda-cloud": {},
  "kernelspec": {
   "display_name": "Python [conda env:carnd-term1]",
   "language": "python",
   "name": "conda-env-carnd-term1-py"
  },
  "language_info": {
   "codemirror_mode": {
    "name": "ipython",
    "version": 3
   },
   "file_extension": ".py",
   "mimetype": "text/x-python",
   "name": "python",
   "nbconvert_exporter": "python",
   "pygments_lexer": "ipython3",
   "version": "3.5.2"
  }
 },
 "nbformat": 4,
 "nbformat_minor": 1
}
